{
  "nbformat": 4,
  "nbformat_minor": 0,
  "metadata": {
    "colab": {
      "provenance": [],
      "authorship_tag": "ABX9TyOMACbIvDxxD98aa+/sN1Hi",
      "include_colab_link": true
    },
    "kernelspec": {
      "name": "python3",
      "display_name": "Python 3"
    },
    "language_info": {
      "name": "python"
    }
  },
  "cells": [
    {
      "cell_type": "markdown",
      "metadata": {
        "id": "view-in-github",
        "colab_type": "text"
      },
      "source": [
        "<a href=\"https://colab.research.google.com/github/swanshiv/MLOPS_CICD_C1/blob/main/1122024.ipynb\" target=\"_parent\"><img src=\"https://colab.research.google.com/assets/colab-badge.svg\" alt=\"Open In Colab\"/></a>"
      ]
    },
    {
      "cell_type": "markdown",
      "source": [
        "Objectives\n",
        "\n",
        "<b> Ommit - Fine Tuned LLM and their deployment </b>  \n",
        "\n",
        "1. Revise Prompt Engineering Design\n",
        "2. Pipelne - Product (I-O-P) | Continuous Integration and Deployment\n",
        "3. Using Cursor {Most awaited feature of LLM - Code Generation}\n",
        "\n"
      ],
      "metadata": {
        "id": "RqTN2Mxwmqih"
      }
    },
    {
      "cell_type": "markdown",
      "source": [
        "Prompt:\n",
        "> Create a Python script that sets up a basic CI/CD pipeline for a machine learning project.\n",
        "\n",
        "> Include automated testing for an ML model, model validation checks, and a simple automated deployment process.\n",
        "\n",
        "> I want you to make 3 layer DNN (using convolutions and fully connected layer), use MNIST as dataset (download if required), and train only for 1 epoch.\n",
        "\n",
        "> When you test, mention what tests you are checking for.\n",
        "\n",
        "> I would like to check if model is under 100000 parameters, takes 28x28 input without any issues, has 10 outputs, and accuracy is more than 80%. Make all the necessary files (for training as well as github actions related).\n",
        "\n",
        "> Finally I should be able to upload whole code to GItHub, and Github action should run all of these things to confirm the build was successful.\n",
        "\n",
        "> Tell me steps to run locally as well before i push to github. For deployment, add sufix to model file to get some detail on when it was trained."
      ],
      "metadata": {
        "id": "LafJ6pVbsSTa"
      }
    },
    {
      "cell_type": "markdown",
      "source": [
        "https://github.com/swanshiv/MLOPS_CICD_C1/actions/runs/12102559065/artifacts/2257644624"
      ],
      "metadata": {
        "id": "vr6S_2GnuuCw"
      }
    },
    {
      "cell_type": "markdown",
      "source": [
        "> Imagine if every time you made a change to your code, it was automatically tested and deployed without manual effort.\n",
        "\n",
        "> How much time would that save you?"
      ],
      "metadata": {
        "id": "mfXZv-yAv_W1"
      }
    },
    {
      "cell_type": "markdown",
      "source": [
        "> Change the venv <br/>\n",
        "> pip requirements.txt <br/>\n",
        "> run app.py <br/>\n",
        "> run test file <br/>\n",
        "> save the model seprately <br/>"
      ],
      "metadata": {
        "id": "MXTmXVXmxg4g"
      }
    },
    {
      "cell_type": "markdown",
      "source": [
        "5\n",
        "\n",
        "(2, 1)\n",
        "4\n",
        "\n",
        "(1, 2)\n",
        "4\n",
        "\n",
        "(No some other error is there)"
      ],
      "metadata": {
        "id": "H7DhXfZDx3FA"
      }
    },
    {
      "cell_type": "markdown",
      "source": [
        "Dev Ops\n",
        "\n",
        "MLOps\n",
        "\n",
        "AI Ops\n",
        "\n",
        "LLM Ops\n"
      ],
      "metadata": {
        "id": "muXjyGnJyhDJ"
      }
    },
    {
      "cell_type": "markdown",
      "source": [
        "Test your applications using GitHub Actions OR the platform that your org supports.\n",
        "\n",
        "LLM Ops\n",
        " - LangSmith\n",
        " - LlaMaIndex\n",
        ""
      ],
      "metadata": {
        "id": "qhYXm8piyuLN"
      }
    },
    {
      "cell_type": "markdown",
      "source": [
        "Continuous Integration (CI) ensures that every code commit is automatically tested, leading to fewer bugs.\n",
        "\n",
        "Continuous Deployment (CD) allows new features and fixes to be deployed automatically, ensuring quick time to market.\n",
        "\n"
      ],
      "metadata": {
        "id": "Tn_bMWFxy6XO"
      }
    },
    {
      "cell_type": "markdown",
      "source": [
        "How to Implement It\n",
        "\n",
        "Use automation tools like GitHub Actions to create workflows that trigger on every commit to test and deploy applications."
      ],
      "metadata": {
        "id": "-WPwC8jw0eUQ"
      }
    },
    {
      "cell_type": "markdown",
      "source": [
        "![image.png](data:image/png;base64,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)"
      ],
      "metadata": {
        "id": "IAktDc9p5o_x"
      }
    },
    {
      "cell_type": "code",
      "execution_count": null,
      "metadata": {
        "id": "-HTn_eDBmNjg"
      },
      "outputs": [],
      "source": []
    }
  ]
}